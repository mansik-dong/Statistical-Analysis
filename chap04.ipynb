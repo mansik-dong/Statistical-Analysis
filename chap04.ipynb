{
 "cells": [
  {
   "cell_type": "markdown",
   "id": "9989a8f1-6269-486d-882a-ec255b8011f5",
   "metadata": {},
   "source": [
    "# 1. 추측통계의 기본"
   ]
  },
  {
   "cell_type": "markdown",
   "id": "3af437fc-838d-46aa-8fdb-b84d46679dde",
   "metadata": {},
   "source": [
    "## 1.1. 모집단과 표본"
   ]
  },
  {
   "cell_type": "markdown",
   "id": "bb98a993-504d-4343-b9d7-082a1e245a27",
   "metadata": {},
   "source": [
    "### 표본의 추출방법"
   ]
  },
  {
   "cell_type": "code",
   "execution_count": 2,
   "id": "0d80d1cd-c879-4ad7-9c92-b9effb3059ed",
   "metadata": {},
   "outputs": [],
   "source": [
    "import numpy as np\n",
    "import pandas as pd\n",
    "import matplotlib.pyplot as plt\n",
    "\n",
    "%precision 3\n",
    "%matplotlib inline"
   ]
  },
  {
   "cell_type": "code",
   "execution_count": 4,
   "id": "dd3c360d-c8ff-433d-820c-75aedb621388",
   "metadata": {},
   "outputs": [
    {
     "data": {
      "text/plain": [
       "array([76, 55, 80, 80, 74, 61, 81, 76, 23, 80], dtype=int64)"
      ]
     },
     "execution_count": 4,
     "metadata": {},
     "output_type": "execute_result"
    }
   ],
   "source": [
    "df = pd.read_csv('../통계적 분석/data/ch4_scores400.csv')\n",
    "scores = np.array(df['score'])\n",
    "scores[:10]"
   ]
  },
  {
   "cell_type": "code",
   "execution_count": 6,
   "id": "392af283-8495-44b2-87c5-b0f802e118b4",
   "metadata": {},
   "outputs": [
    {
     "data": {
      "text/plain": [
       "array([1, 2, 1])"
      ]
     },
     "execution_count": 6,
     "metadata": {},
     "output_type": "execute_result"
    }
   ],
   "source": [
    "np.random.choice([1,2,3],3)"
   ]
  },
  {
   "cell_type": "code",
   "execution_count": 8,
   "id": "f83712f6-4887-4015-beb2-04206046a05a",
   "metadata": {},
   "outputs": [
    {
     "data": {
      "text/plain": [
       "array([2, 1, 3])"
      ]
     },
     "execution_count": 8,
     "metadata": {},
     "output_type": "execute_result"
    }
   ],
   "source": [
    "np.random.choice([1,2,3],3, replace=False)"
   ]
  },
  {
   "cell_type": "code",
   "execution_count": 9,
   "id": "e35ab818-c394-41f6-8df8-83f9c2084309",
   "metadata": {},
   "outputs": [
    {
     "data": {
      "text/plain": [
       "array([1, 2, 1])"
      ]
     },
     "execution_count": 9,
     "metadata": {},
     "output_type": "execute_result"
    }
   ],
   "source": [
    "np.random.seed(0)\n",
    "np.random.choice([1,2,3],3)"
   ]
  },
  {
   "cell_type": "code",
   "execution_count": 10,
   "id": "489c0e37-5bcf-4b9c-a152-312c6510c275",
   "metadata": {},
   "outputs": [
    {
     "data": {
      "text/plain": [
       "70.400"
      ]
     },
     "execution_count": 10,
     "metadata": {},
     "output_type": "execute_result"
    }
   ],
   "source": [
    "np.random.seed(0)\n",
    "sample = np.random.choice(scores,20)\n",
    "\n",
    "sample.mean()"
   ]
  },
  {
   "cell_type": "code",
   "execution_count": 13,
   "id": "341f882c-0633-42c2-a827-d8f9d6638036",
   "metadata": {},
   "outputs": [
    {
     "data": {
      "text/plain": [
       "69.530"
      ]
     },
     "execution_count": 13,
     "metadata": {},
     "output_type": "execute_result"
    }
   ],
   "source": [
    "scores.mean()"
   ]
  },
  {
   "cell_type": "code",
   "execution_count": 14,
   "id": "7fd9d978-91de-4ff2-815e-4a83639b1170",
   "metadata": {},
   "outputs": [
    {
     "name": "stdout",
     "output_type": "stream",
     "text": [
      "1번째 무작위 추출로 얻은 표본평균 72.4\n",
      "2번째 무작위 추출로 얻은 표본평균 58.2\n",
      "3번째 무작위 추출로 얻은 표본평균 69.15\n",
      "4번째 무작위 추출로 얻은 표본평균 74.0\n",
      "5번째 무작위 추출로 얻은 표본평균 73.65\n"
     ]
    }
   ],
   "source": [
    "for i in range(5):\n",
    "    sample = np.random.choice(scores,20)\n",
    "    print(f'{i+1}번째 무작위 추출로 얻은 표본평균', sample.mean())"
   ]
  },
  {
   "cell_type": "code",
   "execution_count": 15,
   "id": "cd2d3b65-6ba4-4eb3-8aee-3729efad204c",
   "metadata": {},
   "outputs": [],
   "source": [
    "dice = [1,2,3,4,5,6]\n",
    "prob = [1/21, 2/21, 3/21, 4/21, 5/21, 6/21]"
   ]
  },
  {
   "cell_type": "code",
   "execution_count": 17,
   "id": "62c34122-afea-4700-93c1-3a0c86264b2d",
   "metadata": {},
   "outputs": [
    {
     "data": {
      "text/plain": [
       "2"
      ]
     },
     "execution_count": 17,
     "metadata": {},
     "output_type": "execute_result"
    }
   ],
   "source": [
    "np.random.choice(dice, p=prob)"
   ]
  },
  {
   "cell_type": "code",
   "execution_count": 19,
   "id": "e6db6fba-9009-49ae-8692-b931c58d4456",
   "metadata": {},
   "outputs": [
    {
     "data": {
      "text/plain": [
       "array([4, 4, 2, 5, 5, 3, 5, 2, 5, 6, 4, 5, 2, 6, 4, 3, 5, 1, 6, 1, 5, 3,\n",
       "       6, 6, 3, 5, 5, 5, 3, 6, 4, 6, 5, 4, 6, 4, 6, 5, 6, 5, 6, 5, 6, 5,\n",
       "       4, 5, 1, 4, 5, 4, 5, 4, 2, 4, 5, 5, 5, 5, 5, 4, 6, 4, 4, 6, 6, 5,\n",
       "       2, 6, 5, 6, 3, 6, 3, 5, 2, 6, 6, 5, 4, 2, 5, 4, 6, 6, 6, 6, 1, 4,\n",
       "       6, 3, 5, 2, 3, 1, 6, 3, 4, 6, 5, 1])"
      ]
     },
     "execution_count": 19,
     "metadata": {},
     "output_type": "execute_result"
    }
   ],
   "source": [
    "num_trial = 100\n",
    "sample = np.random.choice(dice, num_trial, p=prob)\n",
    "sample"
   ]
  },
  {
   "cell_type": "code",
   "execution_count": 20,
   "id": "06d62938-f36c-416b-aef8-402a1c94e010",
   "metadata": {},
   "outputs": [
    {
     "data": {
      "text/html": [
       "<div>\n",
       "<style scoped>\n",
       "    .dataframe tbody tr th:only-of-type {\n",
       "        vertical-align: middle;\n",
       "    }\n",
       "\n",
       "    .dataframe tbody tr th {\n",
       "        vertical-align: top;\n",
       "    }\n",
       "\n",
       "    .dataframe thead th {\n",
       "        text-align: right;\n",
       "    }\n",
       "</style>\n",
       "<table border=\"1\" class=\"dataframe\">\n",
       "  <thead>\n",
       "    <tr style=\"text-align: right;\">\n",
       "      <th></th>\n",
       "      <th>frequency</th>\n",
       "      <th>relative frequency</th>\n",
       "    </tr>\n",
       "    <tr>\n",
       "      <th>dice</th>\n",
       "      <th></th>\n",
       "      <th></th>\n",
       "    </tr>\n",
       "  </thead>\n",
       "  <tbody>\n",
       "    <tr>\n",
       "      <th>1</th>\n",
       "      <td>6</td>\n",
       "      <td>0.06</td>\n",
       "    </tr>\n",
       "    <tr>\n",
       "      <th>2</th>\n",
       "      <td>8</td>\n",
       "      <td>0.08</td>\n",
       "    </tr>\n",
       "    <tr>\n",
       "      <th>3</th>\n",
       "      <td>10</td>\n",
       "      <td>0.10</td>\n",
       "    </tr>\n",
       "    <tr>\n",
       "      <th>4</th>\n",
       "      <td>19</td>\n",
       "      <td>0.19</td>\n",
       "    </tr>\n",
       "    <tr>\n",
       "      <th>5</th>\n",
       "      <td>30</td>\n",
       "      <td>0.30</td>\n",
       "    </tr>\n",
       "    <tr>\n",
       "      <th>6</th>\n",
       "      <td>27</td>\n",
       "      <td>0.27</td>\n",
       "    </tr>\n",
       "  </tbody>\n",
       "</table>\n",
       "</div>"
      ],
      "text/plain": [
       "      frequency  relative frequency\n",
       "dice                               \n",
       "1             6                0.06\n",
       "2             8                0.08\n",
       "3            10                0.10\n",
       "4            19                0.19\n",
       "5            30                0.30\n",
       "6            27                0.27"
      ]
     },
     "execution_count": 20,
     "metadata": {},
     "output_type": "execute_result"
    }
   ],
   "source": [
    "freq,_ = np.histogram(sample, bins=6, range=(1,7))\n",
    "pd.DataFrame({'frequency':freq,\n",
    "              'relative frequency':freq / num_trial},\n",
    "              index= pd.Index(np.arange(1,7), name='dice'))"
   ]
  },
  {
   "cell_type": "code",
   "execution_count": 38,
   "id": "91845cc0-c6f7-48ab-af58-aa08abbb6982",
   "metadata": {},
   "outputs": [
    {
     "data": {
      "image/png": "[encoded data removed]",
      "text/plain": [
       "<Figure size 1000x600 with 1 Axes>"
      ]
     },
     "metadata": {},
     "output_type": "display_data"
    }
   ],
   "source": [
    "fig = plt.figure(figsize=(10,6))\n",
    "ax= fig.add_subplot(111)\n",
    "ax.hist(sample, bins=6, range=(1,7), density=True, rwidth=0.8)\n",
    "# 실제의 확률분포를 가로선으로 표시\n",
    "ax.hlines(prob, np.arange(1,7), np.arange(2,8), colors='gray')\n",
    "# 막대 그래프의 [1.5,2.5, ..., 6.5]에 눈금 표시\n",
    "ax.set_xticks(np.linspace(1.5, 6.5, 6))\n",
    "# 주사위 눈의 값은 [1,2,3,4,5,6]\n",
    "ax.set_xticklabels(np.arange(1,7))\n",
    "ax.set_xlabel('dice')\n",
    "ax.set_ylabel('relative frequency')\n",
    "plt.show()"
   ]
  },
  {
   "cell_type": "code",
   "execution_count": 39,
   "id": "18035643-cdb1-4e62-899e-7cb2b77e365f",
   "metadata": {},
   "outputs": [
    {
     "data": {
      "image/png": "[encoded data removed]",
      "text/plain": [
       "<Figure size 1000x600 with 1 Axes>"
      ]
     },
     "metadata": {},
     "output_type": "display_data"
    }
   ],
   "source": [
    "num_trial = 10000\n",
    "sample = np.random.choice(dice, size=num_trial, p=prob)\n",
    "\n",
    "fig = plt.figure(figsize=(10,6))\n",
    "ax= fig.add_subplot(111)\n",
    "ax.hist(sample, bins=6, range=(1,7), density=True, rwidth=0.8)\n",
    "ax.hlines(prob, np.arange(1,7), np.arange(2,8), colors='gray')\n",
    "ax.set_xticks(np.linspace(1.5, 6.5, 6))\n",
    "ax.set_xticklabels(np.arange(1,7))\n",
    "ax.set_xlabel('dice')\n",
    "ax.set_ylabel('relative frequency')\n",
    "plt.show()"
   ]
  },
  {
   "cell_type": "code",
   "execution_count": 40,
   "id": "f024bb78-9032-4b6d-bfab-8c8ccce8a8d1",
   "metadata": {},
   "outputs": [
    {
     "data": {
      "image/png": "[encoded data removed]",
      "text/plain": [
       "<Figure size 1000x600 with 1 Axes>"
      ]
     },
     "metadata": {},
     "output_type": "display_data"
    }
   ],
   "source": [
    "fig= plt.figure(figsize=(10,6))\n",
    "ax= fig.add_subplot(111)\n",
    "ax.hist(scores, bins=100, range=(0,100), density=True)\n",
    "ax.set_xlim(20,100)\n",
    "ax.set_ylim(0,0.042)\n",
    "ax.set_xlabel('score')\n",
    "ax.set_ylabel('relative frequency')\n",
    "plt.show()"
   ]
  },
  {
   "cell_type": "code",
   "execution_count": 42,
   "id": "1fbd3490-5940-4fb1-9a3d-32894caf8adf",
   "metadata": {},
   "outputs": [
    {
     "data": {
      "text/plain": [
       "50"
      ]
     },
     "execution_count": 42,
     "metadata": {},
     "output_type": "execute_result"
    }
   ],
   "source": [
    "np.random.choice(scores)"
   ]
  },
  {
   "cell_type": "code",
   "execution_count": 44,
   "id": "c3b02beb-2fba-4837-9272-8a7c3546eb26",
   "metadata": {},
   "outputs": [
    {
     "data": {
      "image/png": "[encoded data removed]",
      "text/plain": [
       "<Figure size 1000x600 with 1 Axes>"
      ]
     },
     "metadata": {},
     "output_type": "display_data"
    }
   ],
   "source": [
    "sample_means = [np.random.choice(scores, 20).mean()\n",
    "                for _ in range(10000)]\n",
    "fig= plt.figure(figsize=(10,6))\n",
    "ax= fig.add_subplot(111)\n",
    "ax.hist(sample_means, bins=100, range=(0,100), density=True)\n",
    "# 모평균 세로선으로 표시\n",
    "ax.vlines(np.mean(scores), 0,1,'gray')\n",
    "ax.set_xlim(50,90)\n",
    "ax.set_ylim(0,0.13)\n",
    "ax.set_xlabel('score')\n",
    "ax.set_ylabel('relative frequency')\n",
    "plt.show()\n"
   ]
  }
 ],
 "metadata": {
  "kernelspec": {
   "display_name": "Python 3 (ipykernel)",
   "language": "python",
   "name": "python3"
  },
  "language_info": {
   "codemirror_mode": {
    "name": "ipython",
    "version": 3
   },
   "file_extension": ".py",
   "mimetype": "text/x-python",
   "name": "python",
   "nbconvert_exporter": "python",
   "pygments_lexer": "ipython3",
   "version": "3.11.7"
  }
 },
 "nbformat": 4,
 "nbformat_minor": 5
}
